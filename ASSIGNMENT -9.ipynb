{
 "cells": [
  {
   "cell_type": "code",
   "execution_count": null,
   "id": "9eeb7364",
   "metadata": {},
   "outputs": [],
   "source": [
    "#Q-1\n",
    "''' Abstraction is the process of hiding the internal details of an application from the outer world. Abstraction is used to describe things in simple terms.\n",
    "It’s used to create a boundary between the application and the client programs.'''\n",
    "# real life example\n",
    "'''Your car is a great example of abstraction. You can start a car by turning the key or pressing the start button.\n",
    "You don’t need to know how the engine is getting started, what all components your car has. \n",
    "The car internal implementation and complex logic is completely hidden from the user.'''"
   ]
  },
  {
   "cell_type": "code",
   "execution_count": null,
   "id": "f443450c",
   "metadata": {},
   "outputs": [],
   "source": [
    "# Q-2\n",
    "'''Abstraction is a way of representing some specific data. \n",
    "Encapsulation is a way of hiding the complexity of something and exposing only the parts you wish to expose.\n",
    "For example:: if you have a class that has one or more private fields that you use to store the data, then you are in encapsulation.'''"
   ]
  },
  {
   "cell_type": "code",
   "execution_count": 2,
   "id": "ec89d3c7",
   "metadata": {},
   "outputs": [],
   "source": [
    "#Q-3\n",
    "#This module provides the infrastructure for defining abstract base classes (ABCs) in Python..\n",
    "#abc works by marking methods of the base class as abstract,\n",
    "#and then registering concrete classes as implementations of the abstract base. \n",
    "#If your code requires a particular API, you can use issubclass() or isinstance() to check an object against the abstract class."
   ]
  },
  {
   "cell_type": "code",
   "execution_count": 3,
   "id": "cd7917b5",
   "metadata": {},
   "outputs": [],
   "source": [
    "#Q-4\n",
    "# abstraction can be achieved by having/using abstract classes and methods in our programs.\n"
   ]
  },
  {
   "cell_type": "code",
   "execution_count": null,
   "id": "b4e83118",
   "metadata": {},
   "outputs": [],
   "source": [
    "# Q-5\n"
   ]
  }
 ],
 "metadata": {
  "kernelspec": {
   "display_name": "Python 3 (ipykernel)",
   "language": "python",
   "name": "python3"
  },
  "language_info": {
   "codemirror_mode": {
    "name": "ipython",
    "version": 3
   },
   "file_extension": ".py",
   "mimetype": "text/x-python",
   "name": "python",
   "nbconvert_exporter": "python",
   "pygments_lexer": "ipython3",
   "version": "3.9.13"
  }
 },
 "nbformat": 4,
 "nbformat_minor": 5
}
